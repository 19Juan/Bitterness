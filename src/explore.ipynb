{
 "cells": [
  {
   "cell_type": "markdown",
   "metadata": {},
   "source": [
    "# Modelo predictivo amargo de un cocimiento de Estándar o Club Colombia"
   ]
  },
  {
   "cell_type": "code",
   "execution_count": 72,
   "metadata": {},
   "outputs": [
    {
     "data": {
      "application/vnd.microsoft.datawrangler.viewer.v0+json": {
       "columns": [
        {
         "name": "index",
         "rawType": "int64",
         "type": "integer"
        },
        {
         "name": "Coc",
         "rawType": "int64",
         "type": "integer"
        },
        {
         "name": "Marca",
         "rawType": "object",
         "type": "string"
        },
        {
         "name": "Volumen Total de filtraci¢n ",
         "rawType": "object",
         "type": "string"
        },
        {
         "name": "Extracto CO2",
         "rawType": "object",
         "type": "unknown"
        },
        {
         "name": "L£pulo Pellet  Herkules",
         "rawType": "object",
         "type": "unknown"
        },
        {
         "name": "Alpha  cidos Herkules",
         "rawType": "object",
         "type": "unknown"
        },
        {
         "name": "Catalizador isomerizaci¢n",
         "rawType": "float64",
         "type": "float"
        },
        {
         "name": "Amargo por cocimiento",
         "rawType": "object",
         "type": "unknown"
        }
       ],
       "conversionMethod": "pd.DataFrame",
       "ref": "db1358c8-6267-4252-8e1f-33a4181ffa04",
       "rows": [
        [
         "0",
         "1",
         "CLUB COLOMBIA",
         "1000",
         "9",
         "28",
         "13,4",
         null,
         "47,7"
        ],
        [
         "1",
         "2",
         "CLUB COLOMBIA",
         "1000",
         "9",
         "28",
         "13,4",
         null,
         "44,9"
        ],
        [
         "2",
         "3",
         "CLUB COLOMBIA",
         "989",
         "9",
         "27",
         "13,4",
         null,
         "44,6"
        ],
        [
         "3",
         "4",
         "CLUB COLOMBIA",
         "995",
         "9",
         "28",
         "13,4",
         null,
         "45,3"
        ],
        [
         "4",
         "5",
         "ESTANDAR 900",
         "942",
         "0",
         "0",
         "13,4",
         "0.0",
         "0"
        ],
        [
         "5",
         "6",
         "ESTANDAR 900",
         "945",
         "4",
         "55",
         "13,4",
         "2250.0",
         "59,85"
        ],
        [
         "6",
         "7",
         "ESTANDAR 900",
         "945",
         "4",
         "55",
         "13,4",
         "2250.0",
         "56,43"
        ],
        [
         "7",
         "8",
         "ESTANDAR 900",
         "944",
         "4",
         "53",
         "13,4",
         "2250.0",
         "52,1"
        ],
        [
         "8",
         "9",
         "ESTANDAR 900",
         "945",
         "4",
         "55",
         "13,4",
         "2250.0",
         "55,75"
        ],
        [
         "9",
         "10",
         "ESTANDAR 900",
         "941",
         "3",
         "42",
         "13,4",
         "1800.0",
         "46,51"
        ],
        [
         "10",
         "11",
         "ESTANDAR 900",
         "945",
         "3",
         "42",
         "13,4",
         "1800.0",
         null
        ],
        [
         "11",
         "12",
         "ESTANDAR 900",
         "942",
         "3",
         "42",
         "13,4",
         "1800.0",
         null
        ],
        [
         "12",
         "13",
         "ESTANDAR 900",
         "940",
         "3",
         "42",
         "13,4",
         "1800.0",
         null
        ],
        [
         "13",
         "14",
         "ESTANDAR 900",
         "945",
         "3",
         "42",
         "13,4",
         "1800.0",
         null
        ],
        [
         "14",
         "15",
         "ESTANDAR 18",
         "991",
         "4",
         "60",
         "13,4",
         "2400.0",
         "57,8"
        ],
        [
         "15",
         "16",
         "ESTANDAR 18",
         "977",
         "0",
         "0",
         "13,4",
         "0.0",
         "0"
        ],
        [
         "16",
         "17",
         "ESTANDAR 18",
         "980",
         "4",
         "69",
         "13,4",
         "2400.0",
         "63,61"
        ],
        [
         "17",
         "18",
         "ESTANDAR 18",
         "977",
         "4",
         "69",
         "13,4",
         "2400.0",
         "64,41"
        ],
        [
         "18",
         "19",
         "ESTANDAR 900",
         "943",
         "3",
         "42",
         "13,4",
         "1800.0",
         null
        ],
        [
         "19",
         "20",
         "ESTANDAR 900",
         "945",
         "3",
         "42",
         "13,4",
         "1800.0",
         null
        ],
        [
         "20",
         "21",
         "ESTANDAR 900",
         "945",
         "3",
         "42",
         "13,4",
         "1800.0",
         null
        ],
        [
         "21",
         "22",
         "ESTANDAR 900",
         "943",
         "3",
         "42",
         "13,4",
         "1800.0",
         null
        ],
        [
         "22",
         "23",
         "ESTANDAR 900",
         "945",
         "3",
         "42",
         "13,4",
         "1800.0",
         null
        ],
        [
         "23",
         "24",
         "ESTANDAR 18",
         "991",
         "3",
         "44",
         "13,4",
         "1800.0",
         null
        ],
        [
         "24",
         "25",
         "ESTANDAR 18",
         "979",
         "3",
         "44",
         "13,4",
         "1800.0",
         null
        ],
        [
         "25",
         "26",
         "ESTANDAR 18",
         "983",
         "3",
         "44",
         "13,4",
         "1800.0",
         null
        ],
        [
         "26",
         "27",
         "ESTANDAR 18",
         "987",
         "3",
         "44",
         "13,4",
         "1800.0",
         null
        ],
        [
         "27",
         "28",
         "LIGHT 16",
         "981",
         null,
         null,
         null,
         null,
         null
        ],
        [
         "28",
         "29",
         "LIGHT 16",
         "973",
         null,
         null,
         null,
         null,
         null
        ],
        [
         "29",
         "30",
         "LIGHT 16",
         "974",
         null,
         null,
         null,
         null,
         null
        ],
        [
         "30",
         "31",
         "LIGHT 16",
         "975",
         null,
         null,
         null,
         null,
         null
        ],
        [
         "31",
         "32",
         "LIGHT 16",
         "973",
         null,
         null,
         null,
         null,
         null
        ],
        [
         "32",
         "33",
         "LIGHT 16",
         "965",
         null,
         null,
         null,
         null,
         null
        ],
        [
         "33",
         "34",
         "LIGHT 16",
         "972",
         null,
         null,
         null,
         null,
         null
        ],
        [
         "34",
         "35",
         "ESTANDAR 18",
         "1000",
         "3",
         "46",
         "13,4",
         "1800.0",
         "48,11"
        ],
        [
         "35",
         "36",
         "ESTANDAR 18",
         "580",
         "3",
         "30",
         "13,4",
         "1800.0",
         "46,17"
        ],
        [
         "36",
         "37",
         "ESTANDAR 18",
         "991",
         "3",
         "44",
         "13,4",
         "1800.0",
         "45,6"
        ],
        [
         "37",
         "38",
         "ESTANDAR 18",
         "960",
         "4",
         "65",
         "13,4",
         "2700.0",
         "61,56"
        ],
        [
         "38",
         "39",
         "ESTANDAR 18",
         "980",
         "4",
         "65",
         "13,4",
         "2700.0",
         null
        ],
        [
         "39",
         "40",
         "ESTANDAR 18",
         "973",
         "4",
         "67",
         "13,4",
         "2700.0",
         "63,95"
        ],
        [
         "40",
         "41",
         "ESTANDAR 18",
         "979",
         "0",
         "0",
         "13,4",
         "0.0",
         "0"
        ],
        [
         "41",
         "42",
         "AZTECA 18",
         "1000",
         "9",
         null,
         null,
         null,
         null
        ],
        [
         "42",
         "43",
         "AZTECA 18",
         "1000",
         "9",
         null,
         null,
         null,
         null
        ],
        [
         "43",
         "44",
         "AZTECA 18",
         "1008",
         "9",
         null,
         null,
         null,
         null
        ],
        [
         "44",
         "45",
         "AZTECA 18",
         "995",
         "9",
         null,
         null,
         null,
         null
        ],
        [
         "45",
         "46",
         "ESTANDAR 18",
         "994",
         "3",
         "44",
         "13,4",
         "2000.0",
         "47,2"
        ],
        [
         "46",
         "47",
         "ESTANDAR 18",
         "992",
         "3",
         "46",
         "13,4",
         "1800.0",
         "46,74"
        ],
        [
         "47",
         "48",
         "ESTANDAR 18",
         "990",
         "3",
         "45",
         "13,4",
         "1800.0",
         "45,83"
        ],
        [
         "48",
         "49",
         "ESTANDAR 18",
         "987",
         "3",
         "46",
         "13,4",
         "1800.0",
         "45,71"
        ],
        [
         "49",
         "50",
         "AZTECA 18",
         "1005",
         "9",
         null,
         null,
         null,
         null
        ]
       ],
       "shape": {
        "columns": 8,
        "rows": 3056
       }
      },
      "text/html": [
       "<div>\n",
       "<style scoped>\n",
       "    .dataframe tbody tr th:only-of-type {\n",
       "        vertical-align: middle;\n",
       "    }\n",
       "\n",
       "    .dataframe tbody tr th {\n",
       "        vertical-align: top;\n",
       "    }\n",
       "\n",
       "    .dataframe thead th {\n",
       "        text-align: right;\n",
       "    }\n",
       "</style>\n",
       "<table border=\"1\" class=\"dataframe\">\n",
       "  <thead>\n",
       "    <tr style=\"text-align: right;\">\n",
       "      <th></th>\n",
       "      <th>Coc</th>\n",
       "      <th>Marca</th>\n",
       "      <th>Volumen Total de filtraci¢n</th>\n",
       "      <th>Extracto CO2</th>\n",
       "      <th>L£pulo Pellet  Herkules</th>\n",
       "      <th>Alpha  cidos Herkules</th>\n",
       "      <th>Catalizador isomerizaci¢n</th>\n",
       "      <th>Amargo por cocimiento</th>\n",
       "    </tr>\n",
       "  </thead>\n",
       "  <tbody>\n",
       "    <tr>\n",
       "      <th>0</th>\n",
       "      <td>1</td>\n",
       "      <td>CLUB COLOMBIA</td>\n",
       "      <td>1000</td>\n",
       "      <td>9</td>\n",
       "      <td>28</td>\n",
       "      <td>13,4</td>\n",
       "      <td>NaN</td>\n",
       "      <td>47,7</td>\n",
       "    </tr>\n",
       "    <tr>\n",
       "      <th>1</th>\n",
       "      <td>2</td>\n",
       "      <td>CLUB COLOMBIA</td>\n",
       "      <td>1000</td>\n",
       "      <td>9</td>\n",
       "      <td>28</td>\n",
       "      <td>13,4</td>\n",
       "      <td>NaN</td>\n",
       "      <td>44,9</td>\n",
       "    </tr>\n",
       "    <tr>\n",
       "      <th>2</th>\n",
       "      <td>3</td>\n",
       "      <td>CLUB COLOMBIA</td>\n",
       "      <td>989</td>\n",
       "      <td>9</td>\n",
       "      <td>27</td>\n",
       "      <td>13,4</td>\n",
       "      <td>NaN</td>\n",
       "      <td>44,6</td>\n",
       "    </tr>\n",
       "    <tr>\n",
       "      <th>3</th>\n",
       "      <td>4</td>\n",
       "      <td>CLUB COLOMBIA</td>\n",
       "      <td>995</td>\n",
       "      <td>9</td>\n",
       "      <td>28</td>\n",
       "      <td>13,4</td>\n",
       "      <td>NaN</td>\n",
       "      <td>45,3</td>\n",
       "    </tr>\n",
       "    <tr>\n",
       "      <th>4</th>\n",
       "      <td>5</td>\n",
       "      <td>ESTANDAR 900</td>\n",
       "      <td>942</td>\n",
       "      <td>0</td>\n",
       "      <td>0</td>\n",
       "      <td>13,4</td>\n",
       "      <td>0.0</td>\n",
       "      <td>0</td>\n",
       "    </tr>\n",
       "    <tr>\n",
       "      <th>...</th>\n",
       "      <td>...</td>\n",
       "      <td>...</td>\n",
       "      <td>...</td>\n",
       "      <td>...</td>\n",
       "      <td>...</td>\n",
       "      <td>...</td>\n",
       "      <td>...</td>\n",
       "      <td>...</td>\n",
       "    </tr>\n",
       "    <tr>\n",
       "      <th>3051</th>\n",
       "      <td>2583</td>\n",
       "      <td>ESTANDAR 18</td>\n",
       "      <td>989</td>\n",
       "      <td>3</td>\n",
       "      <td>43</td>\n",
       "      <td>13,4</td>\n",
       "      <td>1800.0</td>\n",
       "      <td>NaN</td>\n",
       "    </tr>\n",
       "    <tr>\n",
       "      <th>3052</th>\n",
       "      <td>2584</td>\n",
       "      <td>ESTANDAR 18</td>\n",
       "      <td>987</td>\n",
       "      <td>3</td>\n",
       "      <td>43</td>\n",
       "      <td>13,4</td>\n",
       "      <td>1800.0</td>\n",
       "      <td>NaN</td>\n",
       "    </tr>\n",
       "    <tr>\n",
       "      <th>3053</th>\n",
       "      <td>2585</td>\n",
       "      <td>ESTANDAR 18</td>\n",
       "      <td>989</td>\n",
       "      <td>0</td>\n",
       "      <td>0</td>\n",
       "      <td>13,4</td>\n",
       "      <td>0.0</td>\n",
       "      <td>NaN</td>\n",
       "    </tr>\n",
       "    <tr>\n",
       "      <th>3054</th>\n",
       "      <td>2586</td>\n",
       "      <td>ESTANDAR 18</td>\n",
       "      <td>986</td>\n",
       "      <td>4</td>\n",
       "      <td>66</td>\n",
       "      <td>13,4</td>\n",
       "      <td>2700.0</td>\n",
       "      <td>NaN</td>\n",
       "    </tr>\n",
       "    <tr>\n",
       "      <th>3055</th>\n",
       "      <td>2587</td>\n",
       "      <td>ESTANDAR 18</td>\n",
       "      <td>988</td>\n",
       "      <td>5</td>\n",
       "      <td>66</td>\n",
       "      <td>13,4</td>\n",
       "      <td>2700.0</td>\n",
       "      <td>NaN</td>\n",
       "    </tr>\n",
       "  </tbody>\n",
       "</table>\n",
       "<p>3056 rows × 8 columns</p>\n",
       "</div>"
      ],
      "text/plain": [
       "       Coc          Marca Volumen Total de filtraci¢n  Extracto CO2  \\\n",
       "0        1  CLUB COLOMBIA                         1000            9   \n",
       "1        2  CLUB COLOMBIA                         1000            9   \n",
       "2        3  CLUB COLOMBIA                          989            9   \n",
       "3        4  CLUB COLOMBIA                          995            9   \n",
       "4        5   ESTANDAR 900                          942            0   \n",
       "...    ...            ...                          ...          ...   \n",
       "3051  2583    ESTANDAR 18                          989            3   \n",
       "3052  2584    ESTANDAR 18                          987            3   \n",
       "3053  2585    ESTANDAR 18                          989            0   \n",
       "3054  2586    ESTANDAR 18                          986            4   \n",
       "3055  2587    ESTANDAR 18                          988            5   \n",
       "\n",
       "     L£pulo Pellet  Herkules Alpha  cidos Herkules  Catalizador isomerizaci¢n  \\\n",
       "0                         28                  13,4                        NaN   \n",
       "1                         28                  13,4                        NaN   \n",
       "2                         27                  13,4                        NaN   \n",
       "3                         28                  13,4                        NaN   \n",
       "4                          0                  13,4                        0.0   \n",
       "...                      ...                   ...                        ...   \n",
       "3051                      43                  13,4                     1800.0   \n",
       "3052                      43                  13,4                     1800.0   \n",
       "3053                       0                  13,4                        0.0   \n",
       "3054                      66                  13,4                     2700.0   \n",
       "3055                      66                  13,4                     2700.0   \n",
       "\n",
       "     Amargo por cocimiento  \n",
       "0                     47,7  \n",
       "1                     44,9  \n",
       "2                     44,6  \n",
       "3                     45,3  \n",
       "4                        0  \n",
       "...                    ...  \n",
       "3051                   NaN  \n",
       "3052                   NaN  \n",
       "3053                   NaN  \n",
       "3054                   NaN  \n",
       "3055                   NaN  \n",
       "\n",
       "[3056 rows x 8 columns]"
      ]
     },
     "execution_count": 72,
     "metadata": {},
     "output_type": "execute_result"
    }
   ],
   "source": [
    "import pandas as pd\n",
    "\n",
    "df = pd.read_csv('../src/2024_2025.csv', sep=';', encoding='latin1')\n",
    "\n",
    "df"
   ]
  },
  {
   "cell_type": "code",
   "execution_count": 73,
   "metadata": {},
   "outputs": [
    {
     "name": "stdout",
     "output_type": "stream",
     "text": [
      "Extracto CO2\n",
      "L£pulo Pellet  Herkules\n",
      "Alpha  cidos Herkules\n",
      "Catalizador isomerizaci¢n\n",
      "Amargo por cocimiento\n",
      "tengo nulos en todas estas columnas\n"
     ]
    }
   ],
   "source": [
    "#Para revisar en qué columnas yo tengo un valor nulo\n",
    "for column in df.columns:\n",
    "    nulls = df[column].isnull().sum()\n",
    "    if nulls > 0:\n",
    "        print(column)\n",
    "\n",
    "print('tengo nulos en todas estas columnas')"
   ]
  },
  {
   "cell_type": "code",
   "execution_count": 74,
   "metadata": {},
   "outputs": [
    {
     "data": {
      "text/plain": [
       "(3056, 8)"
      ]
     },
     "execution_count": 74,
     "metadata": {},
     "output_type": "execute_result"
    }
   ],
   "source": [
    "df.shape"
   ]
  },
  {
   "cell_type": "code",
   "execution_count": 75,
   "metadata": {},
   "outputs": [],
   "source": [
    "#Ahora a las columna de catalizador isomerización le voy a rellenar los valores nulos con el valor 0\n",
    "df['Catalizador isomerizaci¢n'] = df['Catalizador isomerizaci¢n'].fillna(0)"
   ]
  },
  {
   "cell_type": "code",
   "execution_count": 39,
   "metadata": {},
   "outputs": [
    {
     "name": "stdout",
     "output_type": "stream",
     "text": []
    }
   ],
   "source": [
    "#Ahora a borrar filas con nulos:\n",
    "df = df.dropna()\n",
    "df\n",
    "#no borro aquí nada porque me baja más de 500 filas D:"
   ]
  },
  {
   "cell_type": "code",
   "execution_count": null,
   "metadata": {},
   "outputs": [],
   "source": [
    "df = df.drop(columns=['Coc'])"
   ]
  },
  {
   "cell_type": "code",
   "execution_count": null,
   "metadata": {},
   "outputs": [
    {
     "name": "stdout",
     "output_type": "stream",
     "text": []
    }
   ],
   "source": [
    "df.info()\n",
    "#no hay nulos"
   ]
  },
  {
   "cell_type": "code",
   "execution_count": null,
   "metadata": {},
   "outputs": [],
   "source": [
    "# volver todo numerico\n",
    "lista_columnas = []\n",
    "for column in df.columns:\n",
    "    if column != 'Marca':\n",
    "        df[column] = pd.to_numeric(df[column], errors='coerce')\n",
    "        lista_columnas.append(column)"
   ]
  },
  {
   "cell_type": "code",
   "execution_count": null,
   "metadata": {},
   "outputs": [
    {
     "name": "stdout",
     "output_type": "stream",
     "text": []
    }
   ],
   "source": [
    "df.info()"
   ]
  },
  {
   "cell_type": "code",
   "execution_count": null,
   "metadata": {},
   "outputs": [
    {
     "name": "stdout",
     "output_type": "stream",
     "text": []
    }
   ],
   "source": [
    "#Análisis univariante\n",
    "#variable categórica\n",
    "import matplotlib.pyplot as plt\n",
    "import seaborn as sns\n",
    "\n",
    "fig, axis = plt.subplots(1, figsize=(15, 5))\n",
    "\n",
    "sns.histplot(df['Marca'], ax=axis).set(ylabel='Frecuencia')\n",
    "plt.show()"
   ]
  },
  {
   "cell_type": "code",
   "execution_count": null,
   "metadata": {},
   "outputs": [
    {
     "name": "stdout",
     "output_type": "stream",
     "text": []
    }
   ],
   "source": [
    "#Voy a borrar la azteca, no es mi objetivo en este proyecto.\n",
    "df = df[df['Marca'] != 'AZTECA 18']\n",
    "fig, axis = plt.subplots(1, figsize=(15, 5))\n",
    "sns.histplot(df['Marca'], ax=axis).set(ylabel='Frecuencia')\n",
    "plt.show()"
   ]
  },
  {
   "cell_type": "code",
   "execution_count": 53,
   "metadata": {},
   "outputs": [
    {
     "name": "stdout",
     "output_type": "stream",
     "text": []
    }
   ],
   "source": [
    "#Variables numéricas\n",
    "from utils import columnas_numericas\n",
    "columnas_numericas(df)\n",
    "print(columnas_numericas(df))"
   ]
  },
  {
   "cell_type": "code",
   "execution_count": null,
   "metadata": {},
   "outputs": [
    {
     "name": "stdout",
     "output_type": "stream",
     "text": []
    },
    {
     "name": "stdout",
     "output_type": "stream",
     "text": []
    }
   ],
   "source": [
    "\n",
    "#Ahora se debe realizar un análisis univariante de variables numéricas\n",
    "\n",
    "\n",
    "fig, axis = plt.subplots(4,2, figsize=(10,7), gridspec_kw={'height_ratios': [6,1,6,1]})\n",
    "sns.histplot(ax= axis[0,0],data=df,x='Volumen Total de filtraci¢n ')\n",
    "sns.boxplot(ax= axis[1,0],data=df,x='pVolumen Total de filtraci¢n ')\n",
    "sns.histplot(ax= axis[0,1],data=df,x='Extracto CO2')#.set(xlim=(0,50))\n",
    "sns.boxplot(ax= axis[1,1],data=df,x='Extracto CO2')\n",
    "sns.histplot(ax= axis[2,0],data=df,x='L£pulo Pellet  Herkules')#.set(xlim=(0,50))\n",
    "sns.boxplot(ax= axis[3,0],data=df,x='L£pulo Pellet  Herkules')\n",
    "sns.histplot(ax= axis[2,0],data=df,x='Alpha \\xa0cidos Herkules')#.set(xlim=(0,50))\n",
    "sns.boxplot(ax= axis[3,0],data=df,x='Alpha \\xa0cidos Herkules')\n",
    "sns.histplot(ax= axis[2,0],data=df,x='L£pulo Pellet  Herkules')#.set(xlim=(0,50))\n",
    "sns.boxplot(ax= axis[3,0],data=df,x='L£pulo Pellet  Herkules')\n",
    "sns.histplot(ax= axis[2,0],data=df,x='L£pulo Pellet  Herkules')#.set(xlim=(0,50))\n",
    "sns.boxplot(ax= axis[3,0],data=df,x='L£pulo Pellet  Herkules')\n",
    "\n",
    "\n",
    "plt.tight_layout()\n",
    "plt.show()"
   ]
  }
 ],
 "metadata": {
  "kernelspec": {
   "display_name": "Python 3",
   "language": "python",
   "name": "python3"
  },
  "language_info": {
   "codemirror_mode": {
    "name": "ipython",
    "version": 3
   },
   "file_extension": ".py",
   "mimetype": "text/x-python",
   "name": "python",
   "nbconvert_exporter": "python",
   "pygments_lexer": "ipython3",
   "version": "3.11.4"
  },
  "orig_nbformat": 4
 },
 "nbformat": 4,
 "nbformat_minor": 2
}
